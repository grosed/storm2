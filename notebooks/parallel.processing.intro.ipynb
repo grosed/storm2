{
 "cells": [
  {
   "cell_type": "markdown",
   "id": "560c36f5",
   "metadata": {},
   "source": [
    "# Parallel Processing - a Brief Introduction"
   ]
  },
  {
   "cell_type": "markdown",
   "id": "f74b73aa",
   "metadata": {},
   "source": [
    "This is a short introduction to parallel processing. It focuses on developing solutions to **\"embarassingly parallel\"** problems using **python** and **R**.\n",
    "\n",
    "The structure of this introduction is to *evolve* an implementation from a basic standalone program through variants (different versions), using unix shell scripts and some of the programming features and libraries of the **python** and **R**, into programs that exploit systems that provide multiple processors.\n",
    "\n",
    "The outcome of working through and studying these variants is to familiarise the reader with some of the aspects of parallel programming and to provide a collection of *recipes* that can be adapted and reused on systems such as **storm2** and the **virtual linux machines**. "
   ]
  },
  {
   "cell_type": "markdown",
   "id": "d94952ed",
   "metadata": {},
   "source": [
    "## Background - Computing the Matrix Exponential"
   ]
  },
  {
   "cell_type": "markdown",
   "id": "9510ef17",
   "metadata": {},
   "source": [
    "The example problem chosen to introduce the reader to transforming a simple program into one suitable for parallelisation is that of computing the [matrix exponential](https://en.wikipedia.org/wiki/Matrix_exponential).\n"
   ]
  },
  {
   "cell_type": "markdown",
   "id": "74cf6107",
   "metadata": {},
   "source": [
    "## Version 1 - Basic Implementation"
   ]
  },
  {
   "cell_type": "markdown",
   "id": "d4d07cb0",
   "metadata": {},
   "source": [
    "There are various reasonably efficient ways of computing the matrix exponential, although finding a general method that is both reliable and accurate is an open research problem in numerical analysis. However, our example is based on a simple \"brute force\" approach which might be used to study the rate of convergence of the terms in the standard series representation. This is convenient for studying parallelisation as the computational complexity of determining the first $m$ terms of the series for a $n$ by $n$ matrix is $\\cal{O}(n^3m)$. This provides us with both a linear and a super linear parameter to experiment with and control the run time of the different versions of the code."
   ]
  },
  {
   "cell_type": "markdown",
   "id": "0606440e",
   "metadata": {},
   "source": [
    "#### python"
   ]
  },
  {
   "cell_type": "markdown",
   "id": "30273542",
   "metadata": {},
   "source": [
    "```python\n",
    "import numpy as np\n",
    "\n",
    "np.random.seed(0)\n",
    "\n",
    "n = 100\n",
    "m = 10\n",
    "\n",
    "X = np.random.rand(n,n)\n",
    "Z = np.identity(n)\n",
    "Y = Z\n",
    "\n",
    "for k in range(1,m) :\n",
    "    Z = np.matmul(Z,X)/k\n",
    "    Y = np.add(Y,Z)\n",
    "```"
   ]
  },
  {
   "cell_type": "markdown",
   "id": "bc02c74a",
   "metadata": {},
   "source": [
    "This code is available in the accompanying file matrix.exponential.v1.py and can be executed using\n",
    "\n",
    "```bash\n",
    "$ python matrix.exponential.v1.py \n",
    "```\n",
    "\n",
    "Alternatively, you can just start a python interpreter and copy the code into the REPL."
   ]
  },
  {
   "cell_type": "markdown",
   "id": "edcada2f",
   "metadata": {},
   "source": [
    "#### R"
   ]
  },
  {
   "cell_type": "markdown",
   "id": "32700cc9",
   "metadata": {},
   "source": [
    "```R\n",
    "set.seed(0)\n",
    "\n",
    "n <- 10\n",
    "m <- 10\n",
    "\n",
    "X <- matrix(runif(n^2),n,n)\n",
    "Z <- diag(n)\n",
    "Y <- Z\n",
    "\n",
    "for(k in 2:m)\n",
    "{\n",
    "  Z <- Z%*%X/(k-1)\n",
    "  Y <- Y + Z\n",
    "}\n",
    "```"
   ]
  },
  {
   "cell_type": "markdown",
   "id": "014c811d",
   "metadata": {},
   "source": [
    "This code is available in the accompanying file matrix.exponential.v1.R and can be executed using\n",
    "\n",
    "```bash\n",
    "$ Rscript matrix.exponential.v1.R \n",
    "```\n",
    "\n",
    "Alternatively, you can just start R and copy the code into the REPL."
   ]
  },
  {
   "cell_type": "markdown",
   "id": "20a17a6b",
   "metadata": {},
   "source": [
    "## Version 2 - Adding command line arguments"
   ]
  },
  {
   "cell_type": "markdown",
   "id": "ece0b462",
   "metadata": {},
   "source": [
    "The second version of the code allows the parameters $n$ and $m$ of the problem be provided at the command line and the code is made reproducible by adding a random seed. Note that the arguments passed to the programs are interpreted as strings so have to be converted to a suitable type for use in the programs. \n",
    "\n",
    "The purpose of adding the arguments to the command line is that, later on, using the program with a range of arguments is automated.\n",
    "\n",
    "*5Rs - Reproducability*"
   ]
  },
  {
   "cell_type": "markdown",
   "id": "eecdb7ae",
   "metadata": {},
   "source": [
    "#### python"
   ]
  },
  {
   "cell_type": "markdown",
   "id": "a8a62a3a",
   "metadata": {},
   "source": [
    "```python\n",
    "import numpy as np\n",
    "import sys\n",
    "\n",
    "n = int(sys.argv[1])\n",
    "m = int(sys.argv[2])\n",
    "s = int(sys.argv[3])\n",
    "\n",
    "np.random.seed(s)\n",
    "\n",
    "X = np.random.rand(n,n)\n",
    "Z = np.identity(n)\n",
    "Y = Z\n",
    "\n",
    "for k in range(1,m) :\n",
    "    Z = np.matmul(Z,X)/k\n",
    "    Y = np.add(Y,Z)\n",
    "```"
   ]
  },
  {
   "cell_type": "markdown",
   "id": "b7d7944b",
   "metadata": {},
   "source": [
    "This code is available in the accompanying file matrix.exponential.v2.py and can be executed using (for example)\n",
    "\n",
    "```bash\n",
    "$ python matrix.exponential.v2.py 1000 10 1 \n",
    "```"
   ]
  },
  {
   "cell_type": "markdown",
   "id": "6787b101",
   "metadata": {},
   "source": [
    "#### R"
   ]
  },
  {
   "cell_type": "markdown",
   "id": "e6b04633",
   "metadata": {},
   "source": [
    "```R\n",
    "args <- commandArgs(trailingOnly=TRUE)\n",
    "\n",
    "n <- as.numeric(args[1])\n",
    "m <- as.numeric(args[2])\n",
    "s <- as.numeric(args[3])\n",
    "\n",
    "set.seed(s)\n",
    "\n",
    "X <- matrix(runif(n^2),n,n)\n",
    "Z <- diag(n)\n",
    "Y <- Z\n",
    "\n",
    "for(k in 2:m)\n",
    "{\n",
    "  Z <- Z%*%X/(k-1)\n",
    "  Y <- Y + Z\n",
    "}\n",
    "```"
   ]
  },
  {
   "cell_type": "markdown",
   "id": "0a6a5b90",
   "metadata": {},
   "source": [
    "This code is available in the accompanying file matrix.exponential.v2.R and can be executed using (for example)\n",
    "\n",
    "```bash\n",
    "$ Rscript matrix.exponential.v2.R 1000 10 1 \n",
    "```"
   ]
  },
  {
   "cell_type": "markdown",
   "id": "2811047c",
   "metadata": {},
   "source": [
    "## Version 3 - Adding Serialisation"
   ]
  },
  {
   "cell_type": "markdown",
   "id": "1ba76dc5",
   "metadata": {},
   "source": [
    "Serialisation is computer science speak for saving and loading variables used in program for later analysis / use. \n",
    "\n",
    "*5Rs - Reproducability*"
   ]
  },
  {
   "cell_type": "markdown",
   "id": "f2febd77",
   "metadata": {},
   "source": [
    "#### python"
   ]
  },
  {
   "cell_type": "markdown",
   "id": "f75e15f6",
   "metadata": {},
   "source": [
    "```python\n",
    "import numpy as np\n",
    "import sys\n",
    "\n",
    "n = int(sys.argv[1])\n",
    "m = int(sys.argv[2])\n",
    "s = int(sys.argv[3])\n",
    "stem = str(sys.argv[4])\n",
    "\n",
    "np.random.seed(s)\n",
    "\n",
    "X = np.random.rand(n,n)\n",
    "Z = np.identity(n)\n",
    "Y = Z\n",
    "\n",
    "for k in range(1,m) :\n",
    "    Z = np.matmul(Z,X)/k\n",
    "    Y = np.add(Y,Z)\n",
    "\n",
    "\n",
    "fileX = stem + \".X.n=\" + str(n) + \".m=\" + str(m) + \".s=\" + str(s)\n",
    "fileY = stem + \".Y.n=\" + str(n) + \".m=\" + str(m) + \".s=\" + str(s)\n",
    "\n",
    "\n",
    "np.save(fileX,X)\n",
    "np.save(fileY,Y)\n",
    "\n",
    "```"
   ]
  },
  {
   "cell_type": "markdown",
   "id": "e5a5526c",
   "metadata": {},
   "source": [
    "This code is available in the accompanying file matrix.exponential.v3.py and can be executed using (for example)\n",
    "\n",
    "```bash\n",
    "$ python matrix.exponential.v3.py 1000 10 1 matrix.exponential\n",
    "```\n",
    "\n",
    "where **matrix.exponential** is (a string) used to create a common **stem** for the file name used to store the data."
   ]
  },
  {
   "cell_type": "markdown",
   "id": "e464c889",
   "metadata": {},
   "source": [
    "#### R"
   ]
  },
  {
   "cell_type": "markdown",
   "id": "a3648352",
   "metadata": {},
   "source": [
    "```R\n",
    "args <- commandArgs(trailingOnly=TRUE)\n",
    "\n",
    "n <- as.numeric(args[1])\n",
    "m <- as.numeric(args[2])\n",
    "s <- as.numeric(args[3])\n",
    "stem <- args[4]\n",
    "\n",
    "set.seed(s)\n",
    "\n",
    "X <- matrix(runif(n^2),n,n)\n",
    "Z <- diag(n)\n",
    "Y <- Z\n",
    "\n",
    "for(k in 2:m)\n",
    "{\n",
    "  Z <- Z%*%X/(k-1)\n",
    "  Y <- Y + Z\n",
    "}\n",
    "\n",
    "\n",
    "fileX <- paste(stem,\".X.n=\",n,\".m=\",m,\".s=\",s,\".RData\",sep=\"\")\n",
    "fileY <- paste(stem,\".Y.n=\",n,\".m=\",m,\".s=\",s,\".RData\",sep=\"\")\n",
    "\n",
    "\n",
    "save(X,file=fileX)\n",
    "save(Y,file=fileY)\n",
    "```"
   ]
  },
  {
   "cell_type": "markdown",
   "id": "6095ddee",
   "metadata": {},
   "source": [
    "This code is available in the accompanying file matrix.exponential.v3.R and can be executed using (for example)\n",
    "\n",
    "```bash\n",
    "$ Rscript matrix.exponential.v3.R 1000 10 1 matrix.exponential\n",
    "```\n",
    "\n",
    "where **matrix.exponential** is (a string) used to create a common **stem** for the file name used to store the data."
   ]
  },
  {
   "cell_type": "markdown",
   "id": "daa65657",
   "metadata": {},
   "source": [
    "## Version 4 - Separating the science from the engineering"
   ]
  },
  {
   "cell_type": "markdown",
   "id": "935becde",
   "metadata": {},
   "source": [
    "When evolving a program to work in an automated fashion on a multiprocessor system there can be a lot of \"engineering\" involved. For example, processing command line arguments, producing log files, handling errors, and so on. If this \"engineering code\" is combined directly with the \"scientific code\" it obscures what the \"science\" is and \"how\" it is being done. It is important to separate these concerns as early on in the process as possible.  \n",
    "\n",
    "*5Rs - Replicability*"
   ]
  },
  {
   "cell_type": "markdown",
   "id": "3e05d4c0",
   "metadata": {},
   "source": [
    "#### python"
   ]
  },
  {
   "cell_type": "markdown",
   "id": "d132efde",
   "metadata": {},
   "source": [
    "```python\n",
    "import numpy as np\n",
    "import sys\n",
    "\n",
    "\n",
    "def matexp(X,m) :\n",
    "    n,_ = np.shape(X)\n",
    "    Z = np.identity(n)\n",
    "    Y = Z\n",
    "    for k in range(1,m) :\n",
    "        Z = np.matmul(Z,X)/k\n",
    "        Y = np.add(Y,Z)\n",
    "    return Y\n",
    "    \n",
    "\n",
    "n = int(sys.argv[1])\n",
    "m = int(sys.argv[2])\n",
    "s = int(sys.argv[3])\n",
    "stem = str(sys.argv[4])\n",
    "\n",
    "np.random.seed(s)\n",
    "\n",
    "X = np.random.rand(n,n)\n",
    "Y = matexp(X,m)\n",
    "\n",
    "\n",
    "fileX = stem + \".X.n=\" + str(n) + \".m=\" + str(m) + \".s=\" + str(s)\n",
    "fileY = stem + \".Y.n=\" + str(n) + \".m=\" + str(m) + \".s=\" + str(s)\n",
    "\n",
    "\n",
    "np.save(fileX,X)\n",
    "np.save(fileY,Y)\n",
    "\n",
    "\n",
    "```"
   ]
  },
  {
   "cell_type": "markdown",
   "id": "83410480",
   "metadata": {},
   "source": [
    "#### R"
   ]
  },
  {
   "cell_type": "markdown",
   "id": "cb5f82dc",
   "metadata": {},
   "source": [
    "```R\n",
    "matexp <- function(X,m)\n",
    "{\n",
    "  n <- dim(X)[1]\n",
    "  Z <- diag(n)\n",
    "  Y <- Z\n",
    "  for(k in 2:m)\n",
    "  {\n",
    "      Z <- Z%*%X/(k-1)\n",
    "      Y <- Y + Z\n",
    "  }\n",
    "return(Y)\n",
    "}\n",
    "\n",
    "args <- commandArgs(trailingOnly=TRUE)\n",
    "\n",
    "n <- as.numeric(args[1])\n",
    "m <- as.numeric(args[2])\n",
    "s <- as.numeric(args[3])\n",
    "stem <- args[4]\n",
    "\n",
    "set.seed(s)\n",
    "\n",
    "X <- matrix(runif(n^2),n,n)\n",
    "Y <- matexp(X,m)\n",
    "\n",
    "\n",
    "fileX <- paste(stem,\".X.n=\",n,\".m=\",m,\".s=\",s,\".RData\",sep=\"\")\n",
    "fileY <- paste(stem,\".Y.n=\",n,\".m=\",m,\".s=\",s,\".RData\",sep=\"\")\n",
    "\n",
    "\n",
    "save(X,file=fileX)\n",
    "save(Y,file=fileY)\n",
    "```"
   ]
  },
  {
   "cell_type": "markdown",
   "id": "05db29e1",
   "metadata": {},
   "source": [
    "## Version 5 - Using multiple source files\n",
    "\n",
    "Version 5 extends version 4 by further separation of the engineering and science by using separate files. The matrix exponential is now in the file matrix.exponential.py or matrix.exponential.R"
   ]
  },
  {
   "cell_type": "markdown",
   "id": "116cc828",
   "metadata": {},
   "source": [
    "#### matexp.py"
   ]
  },
  {
   "cell_type": "markdown",
   "id": "e0d1714b",
   "metadata": {},
   "source": [
    "```python\n",
    "import numpy as np\n",
    "import sys\n",
    "\n",
    "n = int(sys.argv[1])\n",
    "m = int(sys.argv[2])\n",
    "s = int(sys.argv[3])\n",
    "\n",
    "np.random.seed(s)\n",
    "\n",
    "X = np.random.rand(n,n)\n",
    "Z = np.identity(n)\n",
    "Y = Z\n",
    "\n",
    "for k in range(1,m) :\n",
    "    Z = np.matmul(Z,X)/k\n",
    "    Y = np.add(Y,Z)\n",
    "```"
   ]
  },
  {
   "cell_type": "markdown",
   "id": "5a1707ed",
   "metadata": {},
   "source": [
    "#### python"
   ]
  },
  {
   "cell_type": "markdown",
   "id": "4baa4630",
   "metadata": {},
   "source": [
    "```python\n",
    "from matexp import matexp\n",
    "import numpy as np\n",
    "import sys\n",
    "\n",
    "n = int(sys.argv[1])\n",
    "m = int(sys.argv[2])\n",
    "s = int(sys.argv[3])\n",
    "stem = str(sys.argv[4])\n",
    "\n",
    "np.random.seed(s)\n",
    "\n",
    "X = np.random.rand(n,n)\n",
    "Y = matexp(X,m)\n",
    "\n",
    "\n",
    "fileX = stem + \".X.n=\" + str(n) + \".m=\" + str(m) + \".s=\" + str(s)\n",
    "fileY = stem + \".Y.n=\" + str(n) + \".m=\" + str(m) + \".s=\" + str(s)\n",
    "\n",
    "\n",
    "np.save(fileX,X)\n",
    "np.save(fileY,Y)\n",
    "\n",
    "```"
   ]
  },
  {
   "cell_type": "markdown",
   "id": "21917c73",
   "metadata": {},
   "source": [
    "#### matrix.exponential.R"
   ]
  },
  {
   "cell_type": "markdown",
   "id": "e00c287a",
   "metadata": {},
   "source": [
    "```R\n",
    "matexp <- function(X,m)\n",
    "{\n",
    "  n <- dim(X)[1]\n",
    "  Z <- diag(n)\n",
    "  Y <- Z\n",
    "  for(k in 2:m)\n",
    "  {\n",
    "      Z <- Z%*%X/(k-1)\n",
    "      Y <- Y + Z\n",
    "  }\n",
    "return(Y)\n",
    "}\n",
    "```"
   ]
  },
  {
   "cell_type": "markdown",
   "id": "19361ce4",
   "metadata": {},
   "source": [
    "#### R"
   ]
  },
  {
   "cell_type": "markdown",
   "id": "f2f0266e",
   "metadata": {},
   "source": [
    "```R\n",
    "source(\"matrix.exponential.R\")\n",
    "\n",
    "args <- commandArgs(trailingOnly=TRUE)\n",
    "\n",
    "n <- as.numeric(args[1])\n",
    "m <- as.numeric(args[2])\n",
    "s <- as.numeric(args[3])\n",
    "stem <- args[4]\n",
    "\n",
    "set.seed(s)\n",
    "\n",
    "X <- matrix(runif(n^2),n,n)\n",
    "Y <- matexp(X,m)\n",
    "\n",
    "\n",
    "fileX <- paste(stem,\".X.n=\",n,\".m=\",m,\".s=\",s,\".RData\",sep=\"\")\n",
    "fileY <- paste(stem,\".Y.n=\",n,\".m=\",m,\".s=\",s,\".RData\",sep=\"\")\n",
    "\n",
    "\n",
    "save(X,file=fileX)\n",
    "save(Y,file=fileY)\n",
    "```"
   ]
  },
  {
   "cell_type": "markdown",
   "id": "378e76aa",
   "metadata": {},
   "source": [
    "## Parallelisation via a Unix shell"
   ]
  },
  {
   "cell_type": "markdown",
   "id": "94391575",
   "metadata": {},
   "source": [
    "Thus far non of the examples have been run in parallel. However, having now added facilities for processing command line arguments and serialised the outputs it is trivial matter to do this using a command shell. To do so, just open up multiple shells and run the program with different arguments in each shell. Voila - parallelisation !!\n",
    "\n",
    "However, it is possible to do better.\n",
    "\n"
   ]
  },
  {
   "cell_type": "markdown",
   "id": "2cfcce0a",
   "metadata": {},
   "source": [
    "### A simple for loop"
   ]
  },
  {
   "cell_type": "markdown",
   "id": "1db91bd9",
   "metadata": {},
   "source": [
    "#### shell script "
   ]
  },
  {
   "cell_type": "markdown",
   "id": "a6f176ae",
   "metadata": {},
   "source": [
    "```bash\n",
    "#!/bin/bash\n",
    "for i in {1..5}\n",
    "do\n",
    "    echo \"Welcome $i times\"\n",
    "done\n",
    "```"
   ]
  },
  {
   "cell_type": "markdown",
   "id": "7079c311",
   "metadata": {},
   "source": [
    "The above example is available in the accompanying file for-loop-example-1.sh You can run it at the command line using\n",
    "\n",
    "```bash\n",
    "$ source for-loop-example-1.sh\n",
    "```"
   ]
  },
  {
   "cell_type": "markdown",
   "id": "e4f57b8c",
   "metadata": {},
   "source": [
    "### Running a program multiple times using a simple for loop"
   ]
  },
  {
   "cell_type": "markdown",
   "id": "eb6dc713",
   "metadata": {},
   "source": [
    "The basic shell based for loop can now be used to execute your program multiple times."
   ]
  },
  {
   "cell_type": "markdown",
   "id": "4fa9d351",
   "metadata": {},
   "source": [
    "#### shell script"
   ]
  },
  {
   "cell_type": "markdown",
   "id": "8b954e15",
   "metadata": {},
   "source": [
    "```bash\n",
    "#!/bin/bash\n",
    "for i in {1..5}\n",
    "do\n",
    "    echo \"running n=2000 m = 10 s = $i\"\n",
    "    python matrix.exponential.v5.py 2000 10 ${i} mat.exp.test\n",
    "done\n",
    "```"
   ]
  },
  {
   "cell_type": "markdown",
   "id": "facb6cd7",
   "metadata": {},
   "source": [
    "You can run this by copying the file for-loop-example-2.sh into the same directory as your python code for version 5.\n",
    "\n",
    "```bash\n",
    "$ source for-loop-example-2.sh\n",
    "```"
   ]
  },
  {
   "cell_type": "markdown",
   "id": "605fd82b",
   "metadata": {},
   "source": [
    "However, this does not seem very \"parallel\" !!"
   ]
  },
  {
   "cell_type": "markdown",
   "id": "6947f15d",
   "metadata": {},
   "source": [
    "Note - you will need to modify the shell scripts to run the R versions. This is left as an excercise for the reader !!!"
   ]
  },
  {
   "cell_type": "markdown",
   "id": "87ef123c",
   "metadata": {},
   "source": [
    "### Running a program multiple times using a simple for loop - take 2"
   ]
  },
  {
   "cell_type": "markdown",
   "id": "cdcaa9b2",
   "metadata": {},
   "source": [
    "#### shell script"
   ]
  },
  {
   "cell_type": "markdown",
   "id": "e780f234",
   "metadata": {},
   "source": [
    "```bash\n",
    "#!/bin/bash\n",
    "for i in {1..5}\n",
    "do\n",
    "    echo \"running n=1000 m = 10 s = $i\"\n",
    "    python matrix.exponential.v5.py 2000 10 ${i} mat.exp.test &\n",
    "done\n",
    "```"
   ]
  },
  {
   "cell_type": "markdown",
   "id": "051162f5",
   "metadata": {},
   "source": [
    "The difference here is the **&**. Its effect is to run the command \"in the background\". The shell (running the shell commands in the shell script) and the other commands it starts (your program) are now running **asynchronously**.\n",
    "\n",
    "Voila - parallelisation !! \n",
    "\n",
    "Are you impressed ?"
   ]
  },
  {
   "cell_type": "markdown",
   "id": "a202d867",
   "metadata": {},
   "source": [
    "## Some Issues"
   ]
  },
  {
   "cell_type": "markdown",
   "id": "7c870a3e",
   "metadata": {},
   "source": [
    "### *Hang on een minuut !!*"
   ]
  },
  {
   "cell_type": "markdown",
   "id": "a439c1e6",
   "metadata": {},
   "source": [
    "Hmmm. That was not what quite what I was expecting !!! And by the way, there is something else I have noticed ..."
   ]
  },
  {
   "cell_type": "markdown",
   "id": "cda4a9fe",
   "metadata": {},
   "source": [
    "### Issue 1 - processes and threads. (See white board for details)"
   ]
  },
  {
   "cell_type": "markdown",
   "id": "0740dcde",
   "metadata": {},
   "source": [
    "**Conclusion.** If your code uses a library, system, or software tool / package that is multithreaded, you may need to control the number of threads it has access to. There are several ways of doing this, but the most common reliable way of doing it is by specifying the maximum number of threads to use (per process) using the shell (from which you start your parallel jobs). "
   ]
  },
  {
   "cell_type": "markdown",
   "id": "21eec8da",
   "metadata": {},
   "source": [
    "```bash\n",
    "$ export OMP_NUM_THREADS=<val>\n",
    "```\n",
    "where <val> is the maximum number of threads to use (per process). E.g\n",
    "```bash\n",
    "$ export OMP_NUM_THREADS=1\n",
    "```\n",
    "will effectively turn multi threading off."
   ]
  },
  {
   "cell_type": "markdown",
   "id": "50598789",
   "metadata": {},
   "source": [
    "**Note**. In scientific computing, it is **very uncommon** to set **OMP_NUM_THREADS** to a value greater than the number of physical cores on your system. Doing so is is typically inefficient and usually results in your code slowing down !! \n",
    "\n",
    "It is **very common** for systems like webservers and data base systems to allocate more threads than there are available processors - but this is for some very specific reasons (non of which are to do with scientific computing). "
   ]
  },
  {
   "cell_type": "markdown",
   "id": "bcb47248",
   "metadata": {},
   "source": [
    "### Issue 2 - What happens when I log out !!"
   ]
  },
  {
   "cell_type": "markdown",
   "id": "29b783e9",
   "metadata": {},
   "source": [
    "The parallelisation introduced so far is actually pretty close to the way things are done in practice, all be it typically automated by a job scheduler when working on a shared system. \n",
    "\n",
    "However, when jobs run for a long time, you might need to log out (or lose the connection to my remote system for some reason) before the jobs are finished. Depending on what system you are using, this may mean that your shell (and all the jobs you started using this shell) will be killed (this is actually the correct term). This can be bad.\n",
    "\n",
    "To overcome this problem you can run your shell scripts in a slightly different way.  "
   ]
  },
  {
   "cell_type": "markdown",
   "id": "be33178f",
   "metadata": {},
   "source": [
    "```bash\n",
    "$ nohup source for-loop-example-3.sh\n",
    "```"
   ]
  },
  {
   "cell_type": "markdown",
   "id": "1876777d",
   "metadata": {},
   "source": [
    "This command runs your shell script in a way that it does not get killed when you \"hang up\". Note - **nohup** is short for \"no hang up\" and harks back to the days when most people connected to remote systems using a dial up modem."
   ]
  },
  {
   "cell_type": "markdown",
   "id": "6dfbaa0a",
   "metadata": {},
   "source": [
    "## Basic job management"
   ]
  },
  {
   "cell_type": "markdown",
   "id": "3dab80c4",
   "metadata": {},
   "source": [
    "What happens if you have started some jobs and want to stop them before they are finished ?"
   ]
  },
  {
   "cell_type": "markdown",
   "id": "cdd18377",
   "metadata": {},
   "source": [
    "### Identifying your processes"
   ]
  },
  {
   "cell_type": "markdown",
   "id": "d8fd5192",
   "metadata": {},
   "source": [
    "Each process you start has a unique id called the procecess ID, or **pid** for short. To see all of your running jobs and programs along with their associated pid you can use the **ps** command."
   ]
  },
  {
   "cell_type": "markdown",
   "id": "c54f66ee",
   "metadata": {},
   "source": [
    "```bash\n",
    "$ ps -ef \n",
    "```"
   ]
  },
  {
   "cell_type": "markdown",
   "id": "557db038",
   "metadata": {},
   "source": [
    "However, this lists all of the processes running on the system !! You can filter this to your own processes by using "
   ]
  },
  {
   "cell_type": "markdown",
   "id": "5d07d155",
   "metadata": {},
   "source": [
    "```bash\n",
    "$ ps -ef | grep \"<username>\"\n",
    "```"
   ]
  },
  {
   "cell_type": "markdown",
   "id": "d664e2cd",
   "metadata": {},
   "source": [
    "where <username> is your user name."
   ]
  },
  {
   "cell_type": "markdown",
   "id": "72cbf2c3",
   "metadata": {},
   "source": [
    "Once you have identified your processes **pid** you can **kill** it."
   ]
  },
  {
   "cell_type": "markdown",
   "id": "21fb26b2",
   "metadata": {},
   "source": [
    "```bash\n",
    "$ kill -9 <pid>\n",
    "```"
   ]
  },
  {
   "cell_type": "markdown",
   "id": "97a9417c",
   "metadata": {},
   "source": [
    "where pid is your processes pid. The -9 forces **kill** to be aggressive when killing your job. For example, it will kill all of the processes children as well !!"
   ]
  },
  {
   "cell_type": "markdown",
   "id": "ddafc1f6",
   "metadata": {},
   "source": [
    "There are various other commands you can use to track your processes, for example **top**."
   ]
  },
  {
   "cell_type": "markdown",
   "id": "a2faf900",
   "metadata": {},
   "source": [
    "## Version 6"
   ]
  },
  {
   "cell_type": "markdown",
   "id": "086ea187",
   "metadata": {},
   "source": [
    "Back to our code. The next version uses system commands from within your program to discover the process id and print it out. This can help you track your processes in the future."
   ]
  },
  {
   "cell_type": "markdown",
   "id": "d26d14f5",
   "metadata": {},
   "source": [
    "#### python"
   ]
  },
  {
   "cell_type": "markdown",
   "id": "a094a52b",
   "metadata": {},
   "source": [
    "```python\n",
    "from matexp import matexp\n",
    "import numpy as np\n",
    "import sys\n",
    "import os\n",
    "from datetime import datetime\n",
    "\n",
    "pid = os.getpid()\n",
    "print(\"pid is : \",pid)\n",
    "now = datetime.now()\n",
    "print(\"start time : \",now)  \n",
    "\n",
    "\n",
    "n = int(sys.argv[1])\n",
    "m = int(sys.argv[2])\n",
    "s = int(sys.argv[3])\n",
    "stem = str(sys.argv[4])\n",
    "\n",
    "np.random.seed(s)\n",
    "\n",
    "X = np.random.rand(n,n)\n",
    "Y = matexp(X,m)\n",
    "\n",
    "\n",
    "fileX = stem + \".X.n=\" + str(n) + \".m=\" + str(m) + \".s=\" + str(s)\n",
    "fileY = stem + \".Y.n=\" + str(n) + \".m=\" + str(m) + \".s=\" + str(s)\n",
    "\n",
    "\n",
    "np.save(fileX,X)\n",
    "np.save(fileY,Y)\n",
    "\n",
    "now = datetime.now()\n",
    "print(\"end time : \",now) \n",
    "\n",
    "```"
   ]
  },
  {
   "cell_type": "markdown",
   "id": "aed9c6b3",
   "metadata": {},
   "source": [
    "#### R"
   ]
  },
  {
   "cell_type": "markdown",
   "id": "c188bedf",
   "metadata": {},
   "source": [
    "```R\n",
    "source(\"matrix.exponential.R\")\n",
    "\n",
    "args <- commandArgs(trailingOnly=TRUE)\n",
    "\n",
    "n <- as.numeric(args[1])\n",
    "m <- as.numeric(args[2])\n",
    "s <- as.numeric(args[3])\n",
    "stem <- args[4]\n",
    "\n",
    "pid <- as.character(Sys.getpid())\n",
    "now <- as.character(Sys.time())\n",
    "\n",
    "cat(\"pid i : \",pid,'\\n')\n",
    "cat(\"start time : \",now,'\\n')\n",
    "\n",
    "\n",
    "set.seed(s)\n",
    "\n",
    "X <- matrix(runif(n^2),n,n)\n",
    "Y <- matexp(X,m)\n",
    "\n",
    "\n",
    "fileX <- paste(stem,\".X.n=\",n,\".m=\",m,\".s=\",s,\".RData\",sep=\"\")\n",
    "fileY <- paste(stem,\".Y.n=\",n,\".m=\",m,\".s=\",s,\".RData\",sep=\"\")\n",
    "\n",
    "\n",
    "save(X,file=fileX)\n",
    "save(Y,file=fileY)\n",
    "\n",
    "\n",
    "now <- as.character(Sys.time())\n",
    "cat(\"end time : \",now,'\\n')\n",
    "```"
   ]
  },
  {
   "cell_type": "markdown",
   "id": "5a090acf",
   "metadata": {},
   "source": [
    "Note that the \"logging\" information (pid. start time/date, etc) are not saved to a file but just printed out. Of course, you could save this information to a file, but for basic logging information it is possible to do this from the shell script."
   ]
  },
  {
   "cell_type": "markdown",
   "id": "4b705f9b",
   "metadata": {},
   "source": [
    "#### shell script"
   ]
  },
  {
   "cell_type": "markdown",
   "id": "08b7a890",
   "metadata": {},
   "source": [
    "```bash\n",
    "#!/bin/bash\n",
    "for i in {1..5}\n",
    "do\n",
    "    echo \"running n=2000 m = 10 s = $i\"\n",
    "    python matrix.exponential.v6.py 2000 10 ${i} mat.exp.test > log.${i}.out &\n",
    "done\n",
    "```"
   ]
  },
  {
   "cell_type": "markdown",
   "id": "003b99cc",
   "metadata": {},
   "source": [
    "## Running parallel jobs from within python or R"
   ]
  },
  {
   "cell_type": "markdown",
   "id": "0b82b238",
   "metadata": {},
   "source": [
    "So far, parallel jobs have been managed via the shell using basic shell facilities. An alternative is to use the features of programming environment to create new processes to run subsections of your code. This has the advantage that these libraries usually provide associated facilities to \"marshall\" data structures form your program to new processes. This removes the need to keep \"serialising\" data to and from (usually temporary) files which can be time consuming to implement and difficult to maintain, particularly across different systems.\n",
    "\n",
    "Note though, that \"underneath the bonnet\" these facilities are still using a basic shell to create and manage processes and create their own temporary files to marshall data between the processes and your main program.  \n",
    "\n",
    "*5Rs - Re-usability*"
   ]
  },
  {
   "cell_type": "markdown",
   "id": "4d8e74ad",
   "metadata": {},
   "source": [
    "## Version 7"
   ]
  },
  {
   "cell_type": "markdown",
   "id": "905aaa22",
   "metadata": {},
   "source": [
    "The basic python facility for parallelising code is asynchronous. There is currently no direct equivalent of this in R."
   ]
  },
  {
   "cell_type": "markdown",
   "id": "d68e6d4e",
   "metadata": {},
   "source": [
    "#### python"
   ]
  },
  {
   "cell_type": "markdown",
   "id": "15b06e06",
   "metadata": {},
   "source": [
    "```python\n",
    "from matexp import matexp\n",
    "import numpy as np\n",
    "from multiprocessing import Pool\n",
    "\n",
    "n = 2000\n",
    "m = 10\n",
    "s = 0\n",
    "\n",
    "np.random.seed(s)\n",
    "\n",
    "pool = Pool(2)\n",
    "\n",
    "X = np.random.rand(n,n)\n",
    "print(\"starting Y1\")\n",
    "H1 = pool.apply_async(matexp,(X,m))\n",
    "\n",
    "X = np.random.rand(n,n)\n",
    "print(\"starting Y2\")\n",
    "H2 = pool.apply_async(matexp,(X,m))\n",
    "\n",
    "print(\"waiting for Y1\")\n",
    "Y1 = H1.get()\n",
    "\n",
    "print(\"waiting for Y1\")\n",
    "Y2 = H2.get()\n",
    "\n",
    "```"
   ]
  },
  {
   "cell_type": "markdown",
   "id": "26cf1d80",
   "metadata": {},
   "source": [
    "Notice that you have to write code to manage the asynchronous behavior. The example uses a pool to create processes and then allocates a function and data to them. The immediate result of this is a \"handle\" to the (future) result of the operation. The Handles can then be processed to obtain the results when they become available. \n",
    "\n",
    "This asynchronous approach may seem a bit clumsy, but it has the advantage that, with clever (and complicated) additional code you can arrange it so that the different processes can share information and communicate with each other. In other words, you use an asynchronous library to allow you to write your own bespoke synchronisation code.\n",
    "\n",
    "Writing synchronisation code is hard to do and very difficult to generalise. For this reason, most programmers try and avoid the need for synchronisation all together. "
   ]
  },
  {
   "cell_type": "markdown",
   "id": "24bac77a",
   "metadata": {},
   "source": [
    "## Version 8"
   ]
  },
  {
   "cell_type": "markdown",
   "id": "4f344715",
   "metadata": {},
   "source": [
    "The python and R languages provide synchronisation code for the trivial case of no communication or dependencies between processes in their parallel libraries. Even for this trivial case there are different ways of doing things, but this introduction looks at only one of them. \n",
    "\n",
    "For the case considered here there is only one function being used to do the parallelisation and it is run with a list of different argument parameters."
   ]
  },
  {
   "cell_type": "markdown",
   "id": "9783e6e2",
   "metadata": {},
   "source": [
    "#### python"
   ]
  },
  {
   "cell_type": "markdown",
   "id": "ee58352e",
   "metadata": {},
   "source": [
    "```python\n",
    "from matexp import matexp\n",
    "import numpy as np\n",
    "from multiprocessing import Pool\n",
    "\n",
    "n = 2000\n",
    "m = 100\n",
    "s = 0\n",
    "\n",
    "np.random.seed(s)\n",
    "\n",
    "pool = Pool(2)\n",
    "\n",
    "X1 = np.random.rand(n,n)\n",
    "X2 = np.random.rand(n,n)\n",
    "\n",
    "print(\"starting Y1 and Y2\")\n",
    "result = pool.starmap(matexp,[(X1,m),(X2,m)])\n",
    "\n",
    "\n",
    "```"
   ]
  },
  {
   "cell_type": "markdown",
   "id": "54a85f17",
   "metadata": {},
   "source": [
    "#### R"
   ]
  },
  {
   "cell_type": "markdown",
   "id": "a724afa8",
   "metadata": {},
   "source": [
    "```R\n",
    "source(\"matrix.exponential.R\")\n",
    "\n",
    "library(parallel)\n",
    "\n",
    "n <- 2000\n",
    "m <- 100\n",
    "s <- 0\n",
    "\n",
    "set.seed(0)\n",
    "\n",
    "X1 <- matrix(runif(n^2),n,n)\n",
    "X2 <- matrix(runif(n^2),n,n)\n",
    "\n",
    "# detectCores()\n",
    "\n",
    "result <- mclapply(list(X1,X2),matexp,m,mc.cores=4)\n",
    "```"
   ]
  },
  {
   "cell_type": "markdown",
   "id": "6dfbda35",
   "metadata": {},
   "source": [
    "Notice that in the R version, only one of the parameters can be varied. It is possible to use fairly simple functional programing techniques to overcome this limitation, but these are not covered here."
   ]
  },
  {
   "cell_type": "markdown",
   "id": "953b9e40",
   "metadata": {},
   "source": [
    "## When things go wrong - using exceptions"
   ]
  },
  {
   "cell_type": "markdown",
   "id": "baf1f6e5",
   "metadata": {},
   "source": [
    "There are many good reasons for using the parallel facilities provided by python and R. However, there are certain limitations you need to be aware of. In particular, what happens if one of your processes fails ? Reasons for this happening include (but are not limited to) bugs in your code that only become a problem for certain parameter values, or problems with the system e.g. running out of memory.\n",
    "\n",
    "When one of the processes fails the function that you used in your parallelisation will not return a value. If this happens, what does python or R put in the list of results ? The short answer is that it does not put anything in that is of any real use. One remedy to this is to handle the case of errors in your code directly. This may cover the first scenario above (bugs in your code) but does not handle the case of a system error like running out of memory (or failing to get a valid license key for third party commercial software perhaps !). \n",
    "\n",
    "However, there is a mechanism for \"catching\" these system like errors - **exceptions**."
   ]
  },
  {
   "cell_type": "markdown",
   "id": "dbcf012e",
   "metadata": {},
   "source": [
    "The following examples can be found in the files exception.py and exception.R"
   ]
  },
  {
   "cell_type": "markdown",
   "id": "5893864a",
   "metadata": {},
   "source": [
    "#### python"
   ]
  },
  {
   "cell_type": "markdown",
   "id": "e0249980",
   "metadata": {},
   "source": [
    "```python\n",
    "from multiprocessing import Pool\n",
    "\n",
    "\n",
    "def infractus(n) :\n",
    "    try :\n",
    "        if n > 10 :\n",
    "            return n/0 # ooops !!!\n",
    "        return 2*n\n",
    "    except ZeroDivisionError :\n",
    "        return \"divided by zero\"\n",
    "    except :\n",
    "        return \"something went wrong - not sure what\"\n",
    "    \n",
    "\n",
    "pool = Pool(2)\n",
    "\n",
    "result = pool.starmap(infractus,[(2,),(12,)])\n",
    "```"
   ]
  },
  {
   "cell_type": "markdown",
   "id": "b554174f",
   "metadata": {},
   "source": [
    "#### R"
   ]
  },
  {
   "cell_type": "markdown",
   "id": "cd214653",
   "metadata": {},
   "source": [
    "```R\n",
    "library(parallel)\n",
    "\n",
    "infractus <- function(n)\n",
    "{\n",
    "   result <- tryCatch(\n",
    "   {\n",
    "\tif(n > 10)\n",
    "   \t{\n",
    "\t  return(n + \"a\")\n",
    "   \t}\n",
    "   \treturn(2*n)\n",
    "   },\n",
    "   error = function(cond)\n",
    "   {\n",
    "     return(cond)\n",
    "   }\n",
    "   )\n",
    "   return(result)\n",
    "}\n",
    "\n",
    "\n",
    "\n",
    "result <- mclapply(list(2,12),infractus,mc.cores = 4)\n",
    "\n",
    "infractus(2)\n",
    "\n",
    "infractus(12)\n",
    "```"
   ]
  }
 ],
 "metadata": {
  "kernelspec": {
   "display_name": "Python 3 (ipykernel)",
   "language": "python",
   "name": "python3"
  },
  "language_info": {
   "codemirror_mode": {
    "name": "ipython",
    "version": 3
   },
   "file_extension": ".py",
   "mimetype": "text/x-python",
   "name": "python",
   "nbconvert_exporter": "python",
   "pygments_lexer": "ipython3",
   "version": "3.10.0"
  }
 },
 "nbformat": 4,
 "nbformat_minor": 5
}
