{
 "cells": [
  {
   "cell_type": "markdown",
   "id": "ed7ba7f9",
   "metadata": {},
   "source": [
    "# A Very Brief Intoduction to Using STORM2"
   ]
  },
  {
   "cell_type": "markdown",
   "id": "4c02ab2c",
   "metadata": {},
   "source": [
    "## Connecting to STORM2"
   ]
  },
  {
   "cell_type": "markdown",
   "id": "f3604188",
   "metadata": {},
   "source": [
    "```bash\n",
    "$ ssh <user>@storm2-fe.lancs.ac.uk\n",
    "```"
   ]
  },
  {
   "cell_type": "markdown",
   "id": "6609ff10",
   "metadata": {},
   "source": [
    "## Copying files to STORM2 using rsync"
   ]
  },
  {
   "cell_type": "markdown",
   "id": "b43dec83",
   "metadata": {},
   "source": [
    "In the following replace \\<local file\\> with the name of the file you want to copy, \\<user\\> with your storm2 user name, and \\<remote directory\\> with the name of the directory you wish to copy it to on storm2. "
   ]
  },
  {
   "cell_type": "markdown",
   "id": "734a0257",
   "metadata": {},
   "source": [
    "```bash\n",
    "$ rsync -pavx --progress <local file> <user>@storm2-fe.lancs.ac.uk:<remote file>\n",
    "```"
   ]
  },
  {
   "cell_type": "markdown",
   "id": "9e49c1b7",
   "metadata": {},
   "source": [
    "### Useful resources"
   ]
  },
  {
   "cell_type": "markdown",
   "id": "9720d31f",
   "metadata": {},
   "source": [
    "[More information on how to use rsync](https://www.digitalocean.com/community/tutorials/how-to-use-rsync-to-sync-local-and-remote-directories)"
   ]
  },
  {
   "cell_type": "markdown",
   "id": "966eb3e4",
   "metadata": {},
   "source": [
    "## Copying files to and from STORM2 using scp"
   ]
  },
  {
   "cell_type": "markdown",
   "id": "075bdb97",
   "metadata": {},
   "source": [
    "### Copying a file to STORM2"
   ]
  },
  {
   "cell_type": "markdown",
   "id": "7dfda4ad",
   "metadata": {},
   "source": [
    "```bash\n",
    "$ scp <local file> <user>@storm2-fe.lancs.ac.uk:<remote file>\n",
    "```"
   ]
  },
  {
   "cell_type": "markdown",
   "id": "2843cb01",
   "metadata": {},
   "source": [
    "### Copying a file from STORM2\n"
   ]
  },
  {
   "cell_type": "markdown",
   "id": "beeebc22",
   "metadata": {},
   "source": [
    "```bash\n",
    "$ scp <user>@storm2-fe.lancs.ac.uk:<remote file> <local file> \n",
    "```"
   ]
  },
  {
   "cell_type": "markdown",
   "id": "31778f30",
   "metadata": {},
   "source": [
    "## Installing, configuring and using pyenv"
   ]
  },
  {
   "cell_type": "markdown",
   "id": "ae0cdf9f",
   "metadata": {},
   "source": [
    "### Installing pyenv"
   ]
  },
  {
   "cell_type": "markdown",
   "id": "6c2035ca",
   "metadata": {},
   "source": [
    "```shell\n",
    "$ git clone https://github.com/pyenv/pyenv.git ./.pyenv\n",
    "$ echo -e \"export PATH=\\\"\\$HOME/.pyenv/bin:\\$PATH\\\"\\neval \\\"\\$(pyenv init --path)\\\"\\n\" > start-pyenv\n",
    "$ chmod +x start-pyenv\n",
    "```"
   ]
  },
  {
   "cell_type": "markdown",
   "id": "7e027026",
   "metadata": {},
   "source": [
    "### Starting pyenv"
   ]
  },
  {
   "cell_type": "markdown",
   "id": "541d0db9",
   "metadata": {},
   "source": [
    "```shell\n",
    "$ cd ~\n",
    "$ source ./start-pyenv\n",
    "```"
   ]
  },
  {
   "cell_type": "markdown",
   "id": "f07b2118",
   "metadata": {},
   "source": [
    "### Listing available python systems"
   ]
  },
  {
   "cell_type": "markdown",
   "id": "2c6d2250",
   "metadata": {},
   "source": [
    "```bash\n",
    "$ pyenv install --list\n",
    "```"
   ]
  },
  {
   "cell_type": "markdown",
   "id": "335379b0",
   "metadata": {},
   "source": [
    "### Installing a python system "
   ]
  },
  {
   "cell_type": "markdown",
   "id": "ebcf8a5a",
   "metadata": {},
   "source": [
    "The following example installs CPython version 3.9.16"
   ]
  },
  {
   "cell_type": "markdown",
   "id": "0950dd07",
   "metadata": {},
   "source": [
    "```bash\n",
    "$ pyenv install 3.9.16\n",
    "```"
   ]
  },
  {
   "cell_type": "markdown",
   "id": "85438d21",
   "metadata": {},
   "source": [
    "### Listing installed python systems"
   ]
  },
  {
   "cell_type": "markdown",
   "id": "31462cc1",
   "metadata": {},
   "source": [
    "```bash\n",
    "$ pyenv versions\n",
    "```"
   ]
  },
  {
   "cell_type": "markdown",
   "id": "4a45ab5f",
   "metadata": {},
   "source": [
    "### Changing the selected python system"
   ]
  },
  {
   "cell_type": "markdown",
   "id": "b34e8eb8",
   "metadata": {},
   "source": [
    "In the following example, the working python system is set to CPython version 3.9.16"
   ]
  },
  {
   "cell_type": "markdown",
   "id": "3c0a5b6f",
   "metadata": {},
   "source": [
    "```bash\n",
    "$ pyenv global 3.9.1\n",
    "```"
   ]
  },
  {
   "cell_type": "markdown",
   "id": "7b81c34e",
   "metadata": {},
   "source": [
    "### Using the currently selected python system"
   ]
  },
  {
   "cell_type": "markdown",
   "id": "d33f301a",
   "metadata": {},
   "source": [
    "```bash\n",
    "$ python \n",
    "```"
   ]
  },
  {
   "cell_type": "markdown",
   "id": "3ca3ea67",
   "metadata": {},
   "source": [
    "## Virtual python environments"
   ]
  },
  {
   "cell_type": "markdown",
   "id": "34d255e0",
   "metadata": {},
   "source": [
    "The following assumes you have installed and started pyenv"
   ]
  },
  {
   "cell_type": "markdown",
   "id": "014a4234",
   "metadata": {},
   "source": [
    "### Creating a new environment"
   ]
  },
  {
   "cell_type": "markdown",
   "id": "a8e684eb",
   "metadata": {},
   "source": [
    "```bash\n",
    "$ mkdir project-1\n",
    "$ cd project-1\n",
    "$ python -m venv env\n",
    "```"
   ]
  },
  {
   "cell_type": "markdown",
   "id": "95c346b7",
   "metadata": {},
   "source": [
    "### Starting an existing environment"
   ]
  },
  {
   "cell_type": "markdown",
   "id": "a2950f6b",
   "metadata": {},
   "source": [
    "```bash\n",
    "$ cd project-1\n",
    "$ source ./env/bin/activate\n",
    "```"
   ]
  },
  {
   "cell_type": "markdown",
   "id": "f4dc3c9b",
   "metadata": {},
   "source": [
    "### Stop a running environment"
   ]
  },
  {
   "cell_type": "markdown",
   "id": "9b952ec3",
   "metadata": {},
   "source": [
    "```bash\n",
    "$ deactivate\n",
    "```"
   ]
  },
  {
   "cell_type": "markdown",
   "id": "76454f5e",
   "metadata": {},
   "source": [
    "### Removing an environment"
   ]
  },
  {
   "cell_type": "markdown",
   "id": "4a2d1c1f",
   "metadata": {},
   "source": [
    "```bash\n",
    "$ rm -rf project-1\n",
    "```"
   ]
  },
  {
   "cell_type": "markdown",
   "id": "7b591741",
   "metadata": {},
   "source": [
    "### Useful resources"
   ]
  },
  {
   "cell_type": "markdown",
   "id": "b959979d",
   "metadata": {},
   "source": [
    "[An introduction to python virtual environments](https://python.land/virtual-environments/virtualenv)"
   ]
  },
  {
   "cell_type": "markdown",
   "id": "0094f8f1",
   "metadata": {},
   "source": [
    "# Using slurm"
   ]
  },
  {
   "cell_type": "markdown",
   "id": "c4b4e834",
   "metadata": {},
   "source": [
    "### Prerequisites"
   ]
  },
  {
   "cell_type": "markdown",
   "id": "c3a50430",
   "metadata": {},
   "source": [
    "1. Start pyenv\n",
    "2. If you are using a virtual python environment, activate it "
   ]
  },
  {
   "cell_type": "markdown",
   "id": "2363fc87",
   "metadata": {},
   "source": [
    "### Example 1 - Simple python script"
   ]
  },
  {
   "cell_type": "markdown",
   "id": "dbc363e9",
   "metadata": {},
   "source": [
    "Create the following two files in your home directory on storm2"
   ]
  },
  {
   "cell_type": "markdown",
   "id": "076a2468",
   "metadata": {},
   "source": [
    "#### sleep.py"
   ]
  },
  {
   "cell_type": "markdown",
   "id": "d4dae965",
   "metadata": {},
   "source": [
    "```python\n",
    "import sys\n",
    "import time\n",
    "import datetime\n",
    "\n",
    "print(sys.version)\n",
    "t = int(sys.argv[1])\n",
    "print(\"the time is now \",datetime.datetime.now())\n",
    "print(\"zzzzzz\")\n",
    "time.sleep(t)\n",
    "print(\"hello - I slept for \",t,\" seconds\")\n",
    "print(\"the time is now \",datetime.datetime.now())\n",
    "```"
   ]
  },
  {
   "cell_type": "markdown",
   "id": "57f804dd",
   "metadata": {},
   "source": [
    "#### sleep.sh"
   ]
  },
  {
   "cell_type": "markdown",
   "id": "e89f4558",
   "metadata": {},
   "source": [
    "```shell\n",
    "#!/bin/bash\n",
    "\n",
    "#SBATCH -J sleep1-job\n",
    "#SBATCH -c 1\n",
    "#SBATCH -o sleep-1-job.out\n",
    "#SBATCH --mail-user=dan.grose@lancaster.ac.uk\n",
    "\n",
    "source ~/start-pyenv\n",
    "\n",
    "srun python sleep.py 120\n",
    "```"
   ]
  },
  {
   "cell_type": "markdown",
   "id": "41211e87",
   "metadata": {},
   "source": [
    "#### Submit the job"
   ]
  },
  {
   "cell_type": "markdown",
   "id": "7afbc10b",
   "metadata": {},
   "source": [
    "```bash\n",
    "$ sbatch sleep.sh\n",
    "```"
   ]
  },
  {
   "cell_type": "markdown",
   "id": "99a117ee",
   "metadata": {},
   "source": [
    "#### Monitoring the job"
   ]
  },
  {
   "cell_type": "markdown",
   "id": "a3b2c4f1",
   "metadata": {},
   "source": [
    "```bash\n",
    "$ squeue\n",
    "```"
   ]
  },
  {
   "cell_type": "markdown",
   "id": "9aa5a3ae",
   "metadata": {},
   "source": [
    "#### Examining results sent to stdout"
   ]
  },
  {
   "cell_type": "markdown",
   "id": "7ee9e05c",
   "metadata": {},
   "source": [
    "```bash\n",
    "$ head sleep-1-job.out\n",
    "```"
   ]
  },
  {
   "cell_type": "markdown",
   "id": "329934b7",
   "metadata": {},
   "source": [
    "#### Adding more processors"
   ]
  },
  {
   "cell_type": "markdown",
   "id": "992812a4",
   "metadata": {},
   "source": [
    "To make more processors avaiable for your job increase the value specified in the line"
   ]
  },
  {
   "cell_type": "markdown",
   "id": "4ae5f673",
   "metadata": {},
   "source": [
    "```shell\n",
    "#SBATCH -c 1\n",
    "```"
   ]
  },
  {
   "cell_type": "markdown",
   "id": "e73099fb",
   "metadata": {},
   "source": [
    "in the sleep.sh script."
   ]
  },
  {
   "cell_type": "markdown",
   "id": "2cdccb08",
   "metadata": {},
   "source": [
    "### Example 2 - Simple R script"
   ]
  },
  {
   "cell_type": "markdown",
   "id": "84753c28",
   "metadata": {},
   "source": [
    "Create the following two files in your home directory on storm2"
   ]
  },
  {
   "cell_type": "markdown",
   "id": "576910c4",
   "metadata": {},
   "source": [
    "#### sleep.R"
   ]
  },
  {
   "cell_type": "markdown",
   "id": "0162969b",
   "metadata": {},
   "source": [
    "```R\n",
    "args <- commandArgs(trailingOnly = TRUE)\n",
    "t <- as.double(args)\n",
    "cat(\"the time is now \",as.character(Sys.time()),'\\n')\n",
    "cat(\"zzzzzz\",'\\n')\n",
    "Sys.sleep(t)\n",
    "cat(\"hello - I slept for \",t,\" seconds\",'\\n')\n",
    "cat(\"the time is now \",as.character(Sys.time()),'\\n')\n",
    "```"
   ]
  },
  {
   "cell_type": "markdown",
   "id": "9f35ca1f",
   "metadata": {},
   "source": [
    "#### sleep.sh"
   ]
  },
  {
   "cell_type": "markdown",
   "id": "a88476a0",
   "metadata": {},
   "source": [
    "```shell\n",
    "#!/bin/bash\n",
    "\n",
    "#SBATCH -J sleep1-job\n",
    "#SBATCH -c 1\n",
    "#SBATCH -o sleep-1-job.out\n",
    "#SBATCH --mail-user=dan.grose@lancaster.ac.uk\n",
    "\n",
    "srun Rscript sleep.R 120\n",
    "```"
   ]
  },
  {
   "cell_type": "markdown",
   "id": "f692e082",
   "metadata": {},
   "source": [
    "#### Submit the job"
   ]
  },
  {
   "cell_type": "markdown",
   "id": "1c59c223",
   "metadata": {},
   "source": [
    "```bash\n",
    "$ sbatch sleep.sh\n",
    "```"
   ]
  },
  {
   "cell_type": "markdown",
   "id": "25465e2c",
   "metadata": {},
   "source": [
    "#### Monitoring the job"
   ]
  },
  {
   "cell_type": "markdown",
   "id": "262cc0c7",
   "metadata": {},
   "source": [
    "```bash\n",
    "$ squeue\n",
    "```"
   ]
  },
  {
   "cell_type": "markdown",
   "id": "820bec1b",
   "metadata": {},
   "source": [
    "#### Examining results sent to stdout"
   ]
  },
  {
   "cell_type": "markdown",
   "id": "3d7f172c",
   "metadata": {},
   "source": [
    "```bash\n",
    "$ head sleep-1-job.out\n",
    "```"
   ]
  },
  {
   "cell_type": "markdown",
   "id": "1ed9a4e8",
   "metadata": {},
   "source": [
    "#### Adding more processors"
   ]
  },
  {
   "cell_type": "markdown",
   "id": "f1f33dfa",
   "metadata": {},
   "source": [
    "To make more processors avaiable for your job increase the value specified in the line"
   ]
  },
  {
   "cell_type": "markdown",
   "id": "5b12aa63",
   "metadata": {},
   "source": [
    "```shell\n",
    "#SBATCH -c 1\n",
    "```"
   ]
  },
  {
   "cell_type": "markdown",
   "id": "57a865bb",
   "metadata": {},
   "source": [
    "in the sleep.sh script."
   ]
  },
  {
   "cell_type": "markdown",
   "id": "bce25f06",
   "metadata": {},
   "source": [
    "### Example 3 - Simple python job array "
   ]
  },
  {
   "cell_type": "markdown",
   "id": "f3cec3a2",
   "metadata": {},
   "source": [
    "```shell\n",
    "#!/bin/bash\n",
    "\n",
    "#SBATCH -J sleep-array-job\n",
    "#SBATCH --mail-user=dan.grose@lancaster.ac.uk\n",
    "#SBATCH --mail-type=ALL\n",
    "#SBATCH --array=10-120:10\n",
    "#SBATCH -c 1\n",
    "#SBATCH -o sleep-1-job_%A_%a.out\n",
    "\n",
    "source ~/start-pyenv\n",
    "echo ARRAY ID IS : $SLURM_ARRAY_TASK_ID\n",
    "srun python sleep.py $SLURM_ARRAY_TASK_ID\n",
    "```"
   ]
  },
  {
   "cell_type": "markdown",
   "id": "c225b22e",
   "metadata": {},
   "source": [
    "# Job Management"
   ]
  },
  {
   "cell_type": "markdown",
   "id": "c383b32b",
   "metadata": {},
   "source": [
    "## squeue"
   ]
  },
  {
   "cell_type": "markdown",
   "id": "8610eccc",
   "metadata": {},
   "source": [
    "You can tailor the information that **squeue** provides."
   ]
  },
  {
   "cell_type": "markdown",
   "id": "c26d7b41",
   "metadata": {},
   "source": [
    "#### Example 1\n",
    "Get all of the default information plus the number of cpus that are being used by a particular job."
   ]
  },
  {
   "cell_type": "markdown",
   "id": "ace67f99",
   "metadata": {},
   "source": [
    "```bash\n",
    "$ squeue  -o \"%.18i %.9P %.20j %.8u %.2t %.10M %.6D %R %C\"\n",
    "```"
   ]
  },
  {
   "cell_type": "markdown",
   "id": "7dac4097",
   "metadata": {},
   "source": [
    "Notice how this was done by specifying a **formatting string** in conjunction with the **-o** option. Also notice that the size of the fields for each output can be set using a **.n** modifier.\n",
    "\n",
    "For more information on the **-o** option and **formatting string** see  the [slurm reference card](https://slurm.schedmd.com/pdfs/summary.pdf)."
   ]
  },
  {
   "cell_type": "markdown",
   "id": "da1e8fdb",
   "metadata": {},
   "source": [
    "## sinfo"
   ]
  },
  {
   "cell_type": "markdown",
   "id": "df88cef3",
   "metadata": {},
   "source": [
    "**sinfo** can be used to get information about the nodes. There are lots of options which (like with squeue) can be set using the **-o** option and a **formatting string**. "
   ]
  },
  {
   "cell_type": "markdown",
   "id": "9679d8c2",
   "metadata": {},
   "source": [
    "#### Example 1\n",
    "\n",
    "Get information about used and available cores on each node."
   ]
  },
  {
   "cell_type": "markdown",
   "id": "efcb2ad7",
   "metadata": {},
   "source": [
    "```bash\n",
    "$ sinfo -o \"%n %C\"\n",
    "```"
   ]
  },
  {
   "cell_type": "markdown",
   "id": "d6303986",
   "metadata": {},
   "source": [
    "The output shows \n",
    "\n",
    "\n",
    "**A** (allocated) the number of cores on the node that have been allocated to jobs (i.e. are being used) \\\n",
    "**I** (idle) the number of cores on the node not being used i.e the number available for use \\\n",
    "**O** (other) number of cores on the node that are offline or in some other unusual state - should be 0 most of the time \\\n",
    "**T** (total) the total number of cores on the node"
   ]
  },
  {
   "cell_type": "markdown",
   "id": "d95b10ae",
   "metadata": {},
   "source": [
    "## htop"
   ]
  },
  {
   "cell_type": "markdown",
   "id": "a07e2f59",
   "metadata": {},
   "source": [
    "Once you have information regarding which nodes your jobs are running on, you can have a look at how much memory and cpu percentage it is using with the **htop** command. However, **htop** only gives information regarding the node on which the command was submitted. So, for it to be useful, you fist have to login into the node where your job is running using **ssh**. Note that you should do this from your **storm2-fe** shell prompt. Also note, that becuase you are using **ssh** on **storm2** then you do not need to re-enter your password."
   ]
  },
  {
   "cell_type": "markdown",
   "id": "bbfd81d2",
   "metadata": {},
   "source": [
    "#### Example 1\n",
    "\n",
    "Imagine you have used **squeue** and determined that your job is running on **dantzig**. To get detailed information regarding cpu and memory use for your jobs on **dantzig** use"
   ]
  },
  {
   "cell_type": "markdown",
   "id": "2e244e13",
   "metadata": {},
   "source": [
    "```bash\n",
    "$ ssh dantzig\n",
    "$ htop -u <username>\n",
    "```"
   ]
  },
  {
   "cell_type": "markdown",
   "id": "36a2e6e3",
   "metadata": {},
   "source": [
    "where **<username>** is your **storm2** user name."
   ]
  },
  {
   "cell_type": "markdown",
   "id": "c856651e",
   "metadata": {},
   "source": [
    "### Useful resources"
   ]
  },
  {
   "cell_type": "markdown",
   "id": "d7e1ede3",
   "metadata": {},
   "source": [
    "[slurm reference card](https://slurm.schedmd.com/pdfs/summary.pdf)"
   ]
  }
 ],
 "metadata": {
  "kernelspec": {
   "display_name": "Python 3 (ipykernel)",
   "language": "python",
   "name": "python3"
  },
  "language_info": {
   "codemirror_mode": {
    "name": "ipython",
    "version": 3
   },
   "file_extension": ".py",
   "mimetype": "text/x-python",
   "name": "python",
   "nbconvert_exporter": "python",
   "pygments_lexer": "ipython3",
   "version": "3.9.9"
  }
 },
 "nbformat": 4,
 "nbformat_minor": 5
}
